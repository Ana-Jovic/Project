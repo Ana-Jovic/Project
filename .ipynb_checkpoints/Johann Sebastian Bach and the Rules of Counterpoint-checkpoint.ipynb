{
 "cells": [
  {
   "cell_type": "markdown",
   "metadata": {},
   "source": [
    "# Did Johann Sebastian Bach followed the counterpoint rules?\n",
    "\n",
    "This notebook present the final project for the course Computational Methods in Ethnomusicology 2020. \n",
    "\n",
    "The goal of this notebook, is to prove did Johann Sebastian Bach followed the counterpoint rules in his compositions? The goal of this project is to show if Bach followed two specific rules.\n",
    "\n",
    "The first rule refers to intervals at the begin and at the end of melodies:\n",
    "-the above line may begin with the tonic (1), third (3), fifth (5), octave (8) and decim (10); and end on the tonic (1), third (3), octave (8), and decim (10).\n",
    "-the below line should begin and end only on tonic (1) and octave (8).\n",
    "\n",
    "The second rule refers to the use of tritone: \n",
    "-melodic tritone (augmented fourth) should  be avoided because it is unstable interval with dissonant quality. \n",
    "\n",
    "In order to prove does Johann Sebastian Bach (1685-1750) followed this counterpoint rule, Bach Prelude in C major (BWV 924) from his colection \"Nine Little Preludes\", BWV 923-932 was analysed.  \n",
    "\n",
    "Together with this notebook, you will find folder called Bach-bwv924 which contains three version of the same score (Compressed MuseScore File, Adobe Acrobat Document, and XML Document). "
   ]
  },
  {
   "cell_type": "code",
   "execution_count": 1,
   "metadata": {},
   "outputs": [],
   "source": [
    "from music21 import*"
   ]
  },
  {
   "cell_type": "code",
   "execution_count": 7,
   "metadata": {},
   "outputs": [],
   "source": [
    "# Path of the folder that contains the score to be loaded\n",
    "path = './Bach-bwv924/'\n",
    "\n",
    "#Name of the score\n",
    "file_name = 'Bach-bwv924.musicxml'\n",
    "\n",
    "#Join the path of the folder with the file name to get the full path\n",
    "fn = path + file_name\n",
    "\n",
    "#Load the score \n",
    "s = converter.parse(fn)"
   ]
  },
  {
   "cell_type": "code",
   "execution_count": 8,
   "metadata": {},
   "outputs": [],
   "source": [
    "s.show()"
   ]
  },
  {
   "cell_type": "code",
   "execution_count": 87,
   "metadata": {},
   "outputs": [
    {
     "name": "stdout",
     "output_type": "stream",
     "text": [
      "This score contains 7 elements:\n",
      "\n",
      "<music21.text.TextBox \"Prelude, B...\">\n",
      "<music21.text.TextBox \"Kleine Prä...\">\n",
      "<music21.text.TextBox \"Johann Seb...\">\n",
      "<music21.metadata.Metadata object at 0x000002335655DC10>\n",
      "<music21.stream.PartStaff P1-Staff1>\n",
      "<music21.stream.PartStaff P1-Staff2>\n",
      "<music21.layout.ScoreLayout>\n"
     ]
    }
   ],
   "source": [
    "# How many elements are contained in the score? \n",
    "\n",
    "print(\"This score contains {} elements:\".format(len(s.elements)))\n",
    "print()\n",
    "\n",
    "for element in s.elements:\n",
    "    print(element)"
   ]
  },
  {
   "cell_type": "code",
   "execution_count": 88,
   "metadata": {},
   "outputs": [
    {
     "name": "stdout",
     "output_type": "stream",
     "text": [
      "This score containts 2 parts:\n",
      "\n",
      "<music21.stream.PartStaff P1-Staff1>\n",
      "<music21.stream.PartStaff P1-Staff2>\n"
     ]
    }
   ],
   "source": [
    "#The Music21 has an attribute for retrieving the parts of a score. \n",
    "#I first saved the part streams from the score in the variable pp as a new stream \n",
    "pp = s.parts.stream()\n",
    "\n",
    "print(\"This score containts {} parts:\".format(len(pp.elements)))\n",
    "print ()\n",
    "\n",
    "for element in pp.elements:\n",
    "    print(element)"
   ]
  },
  {
   "cell_type": "code",
   "execution_count": 89,
   "metadata": {},
   "outputs": [],
   "source": [
    "p_upper = pp[0] #upper staff (treble clef)\n",
    "p_lower = pp[1] #lower staff (bas clef)\n",
    "\n",
    "p_upper.show()"
   ]
  },
  {
   "cell_type": "code",
   "execution_count": 90,
   "metadata": {},
   "outputs": [
    {
     "name": "stdout",
     "output_type": "stream",
     "text": [
      "The upper staff part contains 25 elements.\n",
      "The lower statt part contains 25 elements.\n"
     ]
    }
   ],
   "source": [
    "# How many elements are contained in each part? \n",
    "\n",
    "print(\"The upper staff part contains {} elements.\".format(len(p_upper.elements)))\n",
    "print(\"The lower statt part contains {} elements.\".format(len(p_lower)))"
   ]
  },
  {
   "cell_type": "code",
   "execution_count": 91,
   "metadata": {},
   "outputs": [
    {
     "name": "stdout",
     "output_type": "stream",
     "text": [
      "0 P1: Piano: Piano\n",
      "1 <music21.stream.Measure 1 offset=0.0>\n",
      "2 <music21.spanner.Crescendo <music21.note.Note C><music21.note.Note G>>\n",
      "3 <music21.spanner.Line <music21.note.Rest rest><music21.note.Note B>>\n",
      "4 <music21.spanner.Line <music21.note.Note C><music21.note.Note B>>\n",
      "5 <music21.spanner.Line <music21.note.Note B><music21.note.Note G>>\n",
      "6 <music21.spanner.Diminuendo <music21.note.Note F#><music21.note.Note G>>\n",
      "7 <music21.spanner.Crescendo <music21.note.Note E-><music21.note.Rest rest>>\n",
      "8 <music21.stream.Measure 2 offset=4.0>\n",
      "9 <music21.stream.Measure 3 offset=8.0>\n",
      "10 <music21.stream.Measure 4 offset=12.0>\n",
      "11 <music21.stream.Measure 5 offset=16.0>\n",
      "12 <music21.stream.Measure 6 offset=20.0>\n",
      "13 <music21.stream.Measure 7 offset=24.0>\n",
      "14 <music21.stream.Measure 8 offset=28.0>\n",
      "15 <music21.stream.Measure 9 offset=32.0>\n",
      "16 <music21.stream.Measure 10 offset=36.0>\n",
      "17 <music21.stream.Measure 11 offset=40.0>\n",
      "18 <music21.stream.Measure 12 offset=44.0>\n",
      "19 <music21.stream.Measure 13 offset=48.0>\n",
      "20 <music21.stream.Measure 14 offset=52.0>\n",
      "21 <music21.stream.Measure 15 offset=56.0>\n",
      "22 <music21.stream.Measure 16 offset=60.0>\n",
      "23 <music21.stream.Measure 17 offset=64.0>\n",
      "24 <music21.stream.Measure 18 offset=68.0>\n"
     ]
    }
   ],
   "source": [
    "for i in range(len(p_upper.elements)):\n",
    "    print(i, p_upper.elements[i])"
   ]
  },
  {
   "cell_type": "code",
   "execution_count": 92,
   "metadata": {},
   "outputs": [
    {
     "name": "stdout",
     "output_type": "stream",
     "text": [
      "The upper staff contains 18 measures.\n",
      "The lower staff contains 18 measures.\n"
     ]
    }
   ],
   "source": [
    "mm_upper = p_upper.getElementsByClass('Measure').stream()\n",
    "mm_lower = p_lower.getElementsByClass('Measure').stream()\n",
    "\n",
    "print(\"The upper staff contains {} measures.\".format(len(mm_upper.elements)))\n",
    "print(\"The lower staff contains {} measures.\".format(len(mm_lower.elements)))\n"
   ]
  },
  {
   "cell_type": "code",
   "execution_count": 93,
   "metadata": {},
   "outputs": [],
   "source": [
    "mm_upper.show()"
   ]
  },
  {
   "cell_type": "code",
   "execution_count": 94,
   "metadata": {},
   "outputs": [
    {
     "name": "stdout",
     "output_type": "stream",
     "text": [
      "0 <music21.stream.Measure 1 offset=0.0>\n",
      "1 <music21.stream.Measure 2 offset=4.0>\n",
      "2 <music21.stream.Measure 3 offset=8.0>\n",
      "3 <music21.stream.Measure 4 offset=12.0>\n",
      "4 <music21.stream.Measure 5 offset=16.0>\n",
      "5 <music21.stream.Measure 6 offset=20.0>\n",
      "6 <music21.stream.Measure 7 offset=24.0>\n",
      "7 <music21.stream.Measure 8 offset=28.0>\n",
      "8 <music21.stream.Measure 9 offset=32.0>\n",
      "9 <music21.stream.Measure 10 offset=36.0>\n",
      "10 <music21.stream.Measure 11 offset=40.0>\n",
      "11 <music21.stream.Measure 12 offset=44.0>\n",
      "12 <music21.stream.Measure 13 offset=48.0>\n",
      "13 <music21.stream.Measure 14 offset=52.0>\n",
      "14 <music21.stream.Measure 15 offset=56.0>\n",
      "15 <music21.stream.Measure 16 offset=60.0>\n",
      "16 <music21.stream.Measure 17 offset=64.0>\n",
      "17 <music21.stream.Measure 18 offset=68.0>\n"
     ]
    }
   ],
   "source": [
    "for i in range(len(mm_upper.elements)):\n",
    "    print(i, mm_upper.elements[i])"
   ]
  },
  {
   "cell_type": "code",
   "execution_count": 95,
   "metadata": {},
   "outputs": [],
   "source": [
    "im_00 = mm_upper[0]"
   ]
  },
  {
   "cell_type": "code",
   "execution_count": 96,
   "metadata": {},
   "outputs": [
    {
     "name": "stdout",
     "output_type": "stream",
     "text": [
      "This measure contains 23 elements:\n",
      "\n",
      "<music21.expressions.TextExpression \"Moderato\">\n",
      "<music21.layout.SystemLayout>\n",
      "<music21.clef.TrebleClef>\n",
      "<music21.tempo.MetronomeMark Quarter=76.0>\n",
      "<music21.key.KeySignature of no sharps or flats>\n",
      "<music21.meter.TimeSignature 4/4>\n",
      "<music21.dynamics.Dynamic p >\n",
      "<music21.note.Rest rest>\n",
      "<music21.note.Note G>\n",
      "<music21.note.Note C>\n",
      "<music21.note.Note E>\n",
      "<music21.note.Rest rest>\n",
      "<music21.note.Note G>\n",
      "<music21.note.Note C>\n",
      "<music21.note.Note E>\n",
      "<music21.note.Rest rest>\n",
      "<music21.note.Note G>\n",
      "<music21.note.Note C>\n",
      "<music21.note.Note D>\n",
      "<music21.note.Rest rest>\n",
      "<music21.note.Note B>\n",
      "<music21.note.Note D>\n",
      "<music21.note.Note G>\n"
     ]
    }
   ],
   "source": [
    "print(\"This measure contains {} elements:\".format(len(im_00.elements)))\n",
    "print()\n",
    "for element in im_00.elements:\n",
    "    print(element)"
   ]
  },
  {
   "cell_type": "code",
   "execution_count": 97,
   "metadata": {},
   "outputs": [],
   "source": [
    "im_00.show()"
   ]
  },
  {
   "cell_type": "code",
   "execution_count": 98,
   "metadata": {},
   "outputs": [
    {
     "name": "stdout",
     "output_type": "stream",
     "text": [
      "This measure contains 12 notes\n",
      "\n",
      "<music21.note.Note G>\n",
      "<music21.note.Note C>\n",
      "<music21.note.Note E>\n",
      "<music21.note.Note G>\n",
      "<music21.note.Note C>\n",
      "<music21.note.Note E>\n",
      "<music21.note.Note G>\n",
      "<music21.note.Note C>\n",
      "<music21.note.Note D>\n",
      "<music21.note.Note B>\n",
      "<music21.note.Note D>\n",
      "<music21.note.Note G>\n"
     ]
    }
   ],
   "source": [
    "nn = im_00.notes.stream()\n",
    "\n",
    "print(\"This measure contains {} notes\".format(len(nn.elements)))\n",
    "print()\n",
    "for n in nn.elements:\n",
    "    print(n)"
   ]
  },
  {
   "cell_type": "code",
   "execution_count": 99,
   "metadata": {},
   "outputs": [
    {
     "name": "stdout",
     "output_type": "stream",
     "text": [
      "The pitch of this note, including octave, is G4\n"
     ]
    }
   ],
   "source": [
    "n_00 = nn[0]\n",
    "\n",
    "print(\"The pitch of this note, including octave, is\", n_00.nameWithOctave)\n",
    "n_00.show()"
   ]
  },
  {
   "cell_type": "code",
   "execution_count": 100,
   "metadata": {},
   "outputs": [],
   "source": [
    "im_17 = mm_upper[17]"
   ]
  },
  {
   "cell_type": "code",
   "execution_count": 101,
   "metadata": {},
   "outputs": [
    {
     "name": "stdout",
     "output_type": "stream",
     "text": [
      "This measure contains 3 elements:\n",
      "\n",
      "<music21.dynamics.Dynamic f >\n",
      "<music21.chord.Chord C4 E4 G4 C5>\n",
      "<music21.bar.Barline type=final>\n"
     ]
    }
   ],
   "source": [
    "print(\"This measure contains {} elements:\".format(len(im_17.elements)))\n",
    "print()\n",
    "for element in im_17.elements:\n",
    "    print(element)"
   ]
  },
  {
   "cell_type": "code",
   "execution_count": 102,
   "metadata": {},
   "outputs": [],
   "source": [
    "im_17.show()"
   ]
  },
  {
   "cell_type": "code",
   "execution_count": 103,
   "metadata": {},
   "outputs": [
    {
     "name": "stdout",
     "output_type": "stream",
     "text": [
      "This measure contains 1 notes\n",
      "\n",
      "<music21.chord.Chord C4 E4 G4 C5>\n"
     ]
    }
   ],
   "source": [
    "nn = im_17.notes.stream()\n",
    "\n",
    "print(\"This measure contains {} notes\".format(len(nn.elements)))\n",
    "print()\n",
    "for n in nn.elements:\n",
    "    print(n)"
   ]
  },
  {
   "cell_type": "code",
   "execution_count": 104,
   "metadata": {},
   "outputs": [],
   "source": [
    "mm_lower.show()"
   ]
  },
  {
   "cell_type": "code",
   "execution_count": 42,
   "metadata": {},
   "outputs": [
    {
     "name": "stdout",
     "output_type": "stream",
     "text": [
      "0 <music21.stream.Measure 1 offset=0.0>\n",
      "1 <music21.stream.Measure 2 offset=4.0>\n",
      "2 <music21.stream.Measure 3 offset=8.0>\n",
      "3 <music21.stream.Measure 4 offset=12.0>\n",
      "4 <music21.stream.Measure 5 offset=16.0>\n",
      "5 <music21.stream.Measure 6 offset=20.0>\n",
      "6 <music21.stream.Measure 7 offset=24.0>\n",
      "7 <music21.stream.Measure 8 offset=28.0>\n",
      "8 <music21.stream.Measure 9 offset=32.0>\n",
      "9 <music21.stream.Measure 10 offset=36.0>\n",
      "10 <music21.stream.Measure 11 offset=40.0>\n",
      "11 <music21.stream.Measure 12 offset=44.0>\n",
      "12 <music21.stream.Measure 13 offset=48.0>\n",
      "13 <music21.stream.Measure 14 offset=52.0>\n",
      "14 <music21.stream.Measure 15 offset=56.0>\n",
      "15 <music21.stream.Measure 16 offset=60.0>\n",
      "16 <music21.stream.Measure 17 offset=64.0>\n",
      "17 <music21.stream.Measure 18 offset=68.0>\n"
     ]
    }
   ],
   "source": [
    "for i in range(len(mm_lower.elements)):\n",
    "    print(i, mm_lower.elements[i])"
   ]
  },
  {
   "cell_type": "code",
   "execution_count": 105,
   "metadata": {},
   "outputs": [],
   "source": [
    "im_00 = mm_lower[0]"
   ]
  },
  {
   "cell_type": "code",
   "execution_count": 106,
   "metadata": {},
   "outputs": [
    {
     "name": "stdout",
     "output_type": "stream",
     "text": [
      "This measure contains 11 elements:\n",
      "\n",
      "<music21.layout.SystemLayout>\n",
      "<music21.layout.StaffLayout distance 65, staffNumber 2, staffSize None, staffLines None>\n",
      "<music21.clef.BassClef>\n",
      "<music21.key.KeySignature of no sharps or flats>\n",
      "<music21.meter.TimeSignature 4/4>\n",
      "<music21.note.Note C>\n",
      "<music21.note.Note E>\n",
      "<music21.note.Note G>\n",
      "<music21.note.Note F#>\n",
      "<music21.note.Note G>\n",
      "<music21.note.Note G>\n"
     ]
    }
   ],
   "source": [
    "print(\"This measure contains {} elements:\".format(len(im_00.elements)))\n",
    "print()\n",
    "for element in im_00.elements:\n",
    "    print(element)"
   ]
  },
  {
   "cell_type": "code",
   "execution_count": 107,
   "metadata": {},
   "outputs": [],
   "source": [
    "im_00.show()"
   ]
  },
  {
   "cell_type": "code",
   "execution_count": 108,
   "metadata": {},
   "outputs": [
    {
     "name": "stdout",
     "output_type": "stream",
     "text": [
      "This measure contains 6 notes\n",
      "\n",
      "<music21.note.Note C>\n",
      "<music21.note.Note E>\n",
      "<music21.note.Note G>\n",
      "<music21.note.Note F#>\n",
      "<music21.note.Note G>\n",
      "<music21.note.Note G>\n"
     ]
    }
   ],
   "source": [
    "nn = im_00.notes.stream()\n",
    "\n",
    "print(\"This measure contains {} notes\".format(len(nn.elements)))\n",
    "print()\n",
    "for n in nn.elements:\n",
    "    print(n)"
   ]
  },
  {
   "cell_type": "code",
   "execution_count": 109,
   "metadata": {},
   "outputs": [
    {
     "name": "stdout",
     "output_type": "stream",
     "text": [
      "The pitch of this note, including octave, is C3\n"
     ]
    }
   ],
   "source": [
    "n_01 = nn[0]\n",
    "\n",
    "print(\"The pitch of this note, including octave, is\", n_01.nameWithOctave)\n",
    "n_01.show()"
   ]
  },
  {
   "cell_type": "code",
   "execution_count": 110,
   "metadata": {},
   "outputs": [],
   "source": [
    "im_17 = mm_lower[17]"
   ]
  },
  {
   "cell_type": "code",
   "execution_count": 111,
   "metadata": {},
   "outputs": [
    {
     "name": "stdout",
     "output_type": "stream",
     "text": [
      "This measure contains 2 elements:\n",
      "\n",
      "<music21.note.Note C>\n",
      "<music21.bar.Barline type=final>\n"
     ]
    }
   ],
   "source": [
    "print(\"This measure contains {} elements:\".format(len(im_17.elements)))\n",
    "print()\n",
    "for element in im_17.elements:\n",
    "    print(element)"
   ]
  },
  {
   "cell_type": "code",
   "execution_count": 112,
   "metadata": {},
   "outputs": [],
   "source": [
    "im_17.show()"
   ]
  },
  {
   "cell_type": "code",
   "execution_count": 115,
   "metadata": {},
   "outputs": [
    {
     "name": "stdout",
     "output_type": "stream",
     "text": [
      "This measure contains 1 notes\n",
      "\n",
      "<music21.note.Note C>\n"
     ]
    }
   ],
   "source": [
    "nn = im_17.notes.stream()\n",
    "\n",
    "print(\"This measure contains {} notes\".format(len(nn.elements)))\n",
    "print()\n",
    "for n in nn.elements:\n",
    "    print(n)"
   ]
  },
  {
   "cell_type": "code",
   "execution_count": 126,
   "metadata": {},
   "outputs": [
    {
     "name": "stdout",
     "output_type": "stream",
     "text": [
      "The distribution of intervals in the upper staff is as follows:\n",
      "- P4: 26\n",
      "- M3: 21\n",
      "- M2: 30\n",
      "- m3: 41\n",
      "- m2: 22\n",
      "- P5: 17\n",
      "- A4: 6\n",
      "- m6: 5\n",
      "- m7: 6\n",
      "- M6: 6\n",
      "- M7: 1\n",
      "- d5: 4\n",
      "- d7: 1\n",
      "- A2: 1\n"
     ]
    }
   ],
   "source": [
    "# The second rule (tritone analysis)\n",
    "# Let's analyze the intervalic structure of the upper part. Since we don't know a prior what kind of intervals are pressent in the upper part, we will count them using a disctionary. \n",
    "\n",
    "itvls_upper = {}\n",
    "\n",
    "# Iterate over elements\n",
    "for i in range(len(nr_upper)-1):\n",
    "    n1 = nr_upper[i]\n",
    "    n2 = nr_upper[i+1]\n",
    "    # Check both elements are notes\n",
    "    if n1.isNote and n2.isNote:\n",
    "        # Create interval\n",
    "        itvl = interval.Interval(n1, n2)\n",
    "        if itvl.name not in itvls_upper.keys():\n",
    "            itvls_upper[itvl.name] = 1\n",
    "        else:\n",
    "            itvls_upper[itvl.name] += 1\n",
    "\n",
    "# Print results\n",
    "print(\"The distribution of intervals in the upper staff is as follows:\")\n",
    "for k in itvls_upper.keys():\n",
    "    print(\"- {}: {}\".format(k, itvls_upper[k]))"
   ]
  },
  {
   "cell_type": "code",
   "execution_count": 124,
   "metadata": {},
   "outputs": [
    {
     "name": "stdout",
     "output_type": "stream",
     "text": [
      "The distribution of intervals in the upper staff is as follows:\n",
      "- P4: 21\n",
      "- M3: 12\n",
      "- M2: 11\n",
      "- m3: 20\n",
      "- m2: 8\n",
      "- P5: 12\n",
      "- A4: 3\n",
      "- m-3: 21\n",
      "- M-3: 9\n",
      "- A-4: 3\n",
      "- m-2: 14\n",
      "- m6: 5\n",
      "- P-4: 5\n",
      "- M-2: 19\n",
      "- m7: 6\n",
      "- P-5: 5\n",
      "- M6: 5\n",
      "- M7: 1\n",
      "- d5: 3\n",
      "- M-6: 1\n",
      "- d-5: 1\n",
      "- d7: 1\n",
      "- A2: 1\n"
     ]
    }
   ],
   "source": [
    "# This cell is the similar with the previous one, but now we considering the direction of the intervlas \n",
    "\n",
    "itvls_upper = {}\n",
    "\n",
    "# Iterate over elements\n",
    "for i in range(len(nr_upper)-1):\n",
    "    n1 = nr_upper[i]\n",
    "    n2 = nr_upper[i+1]\n",
    "    # Check both elements are notes\n",
    "    if n1.isNote and n2.isNote:\n",
    "        # Create interval\n",
    "        itvl = interval.Interval(n1, n2)\n",
    "        if itvl.directedName not in itvls_upper.keys():\n",
    "            itvls_upper[itvl.directedName] = 1\n",
    "        else:\n",
    "            itvls_upper[itvl.directedName] += 1\n",
    "\n",
    "# Print results\n",
    "print(\"The distribution of intervals in the upper staff is as follows:\")\n",
    "for k in itvls_upper.keys():\n",
    "    print(\"- {}: {}\".format(k, itvls_upper[k]))\n"
   ]
  },
  {
   "cell_type": "code",
   "execution_count": 122,
   "metadata": {},
   "outputs": [
    {
     "data": {
      "image/png": "[encoded data removed]",
      "text/plain": [
       "<Figure size 432x288 with 1 Axes>"
      ]
     },
     "metadata": {
      "image/png": {
       "height": 263,
       "width": 378
      },
      "needs_background": "light"
     },
     "output_type": "display_data"
    }
   ],
   "source": [
    "import matplotlib.pyplot as plt\n",
    "plt.bar(itvls_upper.keys(), itvls_upper.values())\n",
    "plt.title(\"Intervals histogram\")\n",
    "plt.show()"
   ]
  }
 ],
 "metadata": {
  "kernelspec": {
   "display_name": "Python 3",
   "language": "python",
   "name": "python3"
  },
  "language_info": {
   "codemirror_mode": {
    "name": "ipython",
    "version": 3
   },
   "file_extension": ".py",
   "mimetype": "text/x-python",
   "name": "python",
   "nbconvert_exporter": "python",
   "pygments_lexer": "ipython3",
   "version": "3.8.1"
  }
 },
 "nbformat": 4,
 "nbformat_minor": 4
}
